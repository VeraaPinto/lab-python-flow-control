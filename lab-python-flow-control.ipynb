{
 "cells": [
  {
   "cell_type": "markdown",
   "id": "d3bfc191-8885-42ee-b0a0-bbab867c6f9f",
   "metadata": {
    "tags": []
   },
   "source": [
    "# Lab | Flow Control"
   ]
  },
  {
   "cell_type": "markdown",
   "id": "3851fcd1-cf98-4653-9c89-e003b7ec9400",
   "metadata": {},
   "source": [
    "## Exercise: Managing Customer Orders Optimized\n",
    "\n",
    "In the last lab, you were starting an online store that sells various products. To ensure smooth operations, you developed a program that manages customer orders and inventory.\n",
    "\n",
    "You did so without using flow control. Let's go a step further and improve this code.\n",
    "\n",
    "Follow the steps below to complete the exercise:\n",
    "\n",
    "1. Look at your code from the lab data structures, and improve repeated code with loops.\n",
    "\n",
    "2. Instead of asking the user to input the name of three products that a customer wants to order, do the following:\n",
    "    \n",
    "    a. Prompt the user to enter the name of a product that a customer wants to order.\n",
    "    \n",
    "    b. Add the product name to the \"customer_orders\" set.\n",
    "    \n",
    "    c. Ask the user if they want to add another product (yes/no).\n",
    "    \n",
    "    d. Continue the loop until the user does not want to add another product.\n",
    "\n",
    "3. Instead of updating the inventory by subtracting 1 from the quantity of each product, only do it for  the products that were ordered (those in \"customer_orders\")."
   ]
  },
  {
   "cell_type": "code",
   "execution_count": 52,
   "id": "f34c965f-3e09-4484-b7b6-55b6d5af5dc0",
   "metadata": {},
   "outputs": [
    {
     "name": "stdin",
     "output_type": "stream",
     "text": [
      "Entre the quantity for t-shirt 5\n",
      "Entre the quantity for mug 2\n",
      "Entre the quantity for hat 3\n",
      "Entre the quantity for book 1\n",
      "Entre the quantity for keychain 4\n"
     ]
    },
    {
     "name": "stdout",
     "output_type": "stream",
     "text": [
      "{'t-shirt': 5, 'mug': 2, 'hat': 3, 'book': 1, 'keychain': 4}\n"
     ]
    }
   ],
   "source": [
    "products = [\"t-shirt\",\"mug\",\"hat\",\"book\", \"keychain\"]\n",
    "inventory = {}\n",
    "for item in products:\n",
    "    inventory[item]=int(input(f\"Entre the quantity for {item}\"))\n",
    "\n",
    "print(inventory)"
   ]
  },
  {
   "cell_type": "code",
   "execution_count": 46,
   "id": "0ddf7b25-5890-4652-80e6-a9402aae07f4",
   "metadata": {},
   "outputs": [
    {
     "name": "stdout",
     "output_type": "stream",
     "text": [
      "We have the following products available: ['t-shirt', 'mug', 'hat', 'book', 'keychain']\n"
     ]
    },
    {
     "name": "stdin",
     "output_type": "stream",
     "text": [
      "Enter the name of product you want to order 1:  mug\n",
      "Do you want to continue ordering (yes/no): yes\n"
     ]
    },
    {
     "name": "stdout",
     "output_type": "stream",
     "text": [
      "mug has been added to your order.\n"
     ]
    },
    {
     "name": "stdin",
     "output_type": "stream",
     "text": [
      "Enter the name of product you want to order 2:  hat\n",
      "Do you want to continue ordering (yes/no): yes\n"
     ]
    },
    {
     "name": "stdout",
     "output_type": "stream",
     "text": [
      "hat has been added to your order.\n"
     ]
    },
    {
     "name": "stdin",
     "output_type": "stream",
     "text": [
      "Enter the name of product you want to order 3:  book\n",
      "Do you want to continue ordering (yes/no): no\n"
     ]
    },
    {
     "name": "stdout",
     "output_type": "stream",
     "text": [
      "book has been added to your order.\n",
      "Your order: {'mug', 'hat', 'book'}\n"
     ]
    }
   ],
   "source": [
    "customer_orders = set()\n",
    "another_product = \"yes\"\n",
    "print(\"We have the following products available:\", products)\n",
    "while another_product ==\"yes\":\n",
    "    product = input(f\"Enter the name of product you want to order {len(customer_orders) + 1}: \")\n",
    "    another_product = input(f\"Do you want to continue ordering (yes/no):\")\n",
    "    if product in products:\n",
    "        customer_orders.add(product)\n",
    "        print(f\"{product} has been added to your order.\")\n",
    "    else:\n",
    "        print(\"Invalid product name. Please choose from the available products.\")\n",
    "print(\"Your order:\", customer_orders) "
   ]
  },
  {
   "cell_type": "code",
   "execution_count": 54,
   "id": "ef048157-836d-464c-855a-856a0a00e118",
   "metadata": {},
   "outputs": [
    {
     "name": "stdout",
     "output_type": "stream",
     "text": [
      "{'t-shirt': 5, 'mug': 1, 'hat': 2, 'book': 0, 'keychain': 4}\n"
     ]
    }
   ],
   "source": [
    "for item in customer_orders:\n",
    "    inventory[item]-=1\n",
    "print (inventory) "
   ]
  },
  {
   "cell_type": "code",
   "execution_count": null,
   "id": "adea71ae-68aa-4cbb-8c05-cd16260c97a7",
   "metadata": {},
   "outputs": [],
   "source": []
  }
 ],
 "metadata": {
  "kernelspec": {
   "display_name": "Python [conda env:base] *",
   "language": "python",
   "name": "conda-base-py"
  },
  "language_info": {
   "codemirror_mode": {
    "name": "ipython",
    "version": 3
   },
   "file_extension": ".py",
   "mimetype": "text/x-python",
   "name": "python",
   "nbconvert_exporter": "python",
   "pygments_lexer": "ipython3",
   "version": "3.12.7"
  }
 },
 "nbformat": 4,
 "nbformat_minor": 5
}
